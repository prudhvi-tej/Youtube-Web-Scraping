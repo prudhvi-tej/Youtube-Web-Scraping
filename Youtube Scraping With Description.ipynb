{
 "cells": [
  {
   "cell_type": "code",
   "execution_count": null,
   "id": "0036d9ac-a99e-4f38-a3a3-8141edbedafb",
   "metadata": {},
   "outputs": [],
   "source": [
    "!pip install chromedriver_binary==135.0.7049.42 "
   ]
  },
  {
   "cell_type": "code",
   "execution_count": null,
   "id": "1e734d26-8ca0-47d6-8a52-76d50e3083a0",
   "metadata": {},
   "outputs": [],
   "source": [
    "import time\n",
    "import chromedriver_binary\n",
    "import requests\n",
    "import pandas as pd\n",
    "import numpy as np\n",
    "from selenium import webdriver\n",
    "from bs4 import BeautifulSoup\n",
    "from tqdm import tqdm"
   ]
  },
  {
   "cell_type": "code",
   "execution_count": null,
   "id": "a362ad7b-b385-42a1-b395-40e501009a84",
   "metadata": {},
   "outputs": [],
   "source": [
    "browser=webdriver.Chrome()"
   ]
  },
  {
   "cell_type": "code",
   "execution_count": null,
   "id": "7cd37c46-4f49-4959-bbb4-e5fd604729a4",
   "metadata": {},
   "outputs": [],
   "source": [
    "browser.get('https://www.youtube.com/@GeeksforGeeksVideos/videos')"
   ]
  },
  {
   "cell_type": "code",
   "execution_count": null,
   "id": "378662e1-910a-457f-acfb-5d368ff5c67c",
   "metadata": {},
   "outputs": [],
   "source": [
    "browser.page_source"
   ]
  },
  {
   "cell_type": "code",
   "execution_count": null,
   "id": "6ad6da69-76c3-4944-90b7-6e5bc133ad7a",
   "metadata": {},
   "outputs": [],
   "source": [
    "soup=BeautifulSoup(browser.page_source,'html.parser')"
   ]
  },
  {
   "cell_type": "code",
   "execution_count": null,
   "id": "d121120f-a566-4ae3-ad0b-f33183bf34ef",
   "metadata": {},
   "outputs": [],
   "source": [
    "soup"
   ]
  },
  {
   "cell_type": "code",
   "execution_count": null,
   "id": "ee564baf-35ef-4bd4-808a-d8839d8593f9",
   "metadata": {},
   "outputs": [],
   "source": [
    "soup.text.replace('\\n','')"
   ]
  },
  {
   "cell_type": "code",
   "execution_count": null,
   "id": "af87ff25-978d-40e9-80b7-7b249447793d",
   "metadata": {},
   "outputs": [],
   "source": [
    "print(soup.text.replace('\\n\\n',''))"
   ]
  },
  {
   "cell_type": "code",
   "execution_count": null,
   "id": "76c82ef2-efe7-49de-8b0d-94954701da8e",
   "metadata": {},
   "outputs": [],
   "source": [
    "sp=soup.find(\"div\", {\"id\": \"contents\", \"class\": \"style-scope ytd-rich-grid-renderer\"})"
   ]
  },
  {
   "cell_type": "code",
   "execution_count": null,
   "id": "0d085ca3-9316-4387-aad5-8379a7abed4a",
   "metadata": {},
   "outputs": [],
   "source": [
    "sp"
   ]
  },
  {
   "cell_type": "code",
   "execution_count": null,
   "id": "a40758f2-e6cf-4726-9f84-2953dbf0a1d5",
   "metadata": {},
   "outputs": [],
   "source": [
    "spp=sp.find_all('ytd-rich-item-renderer')"
   ]
  },
  {
   "cell_type": "code",
   "execution_count": null,
   "id": "e8eb1fef-8f5d-4161-a05a-d467e134480c",
   "metadata": {},
   "outputs": [],
   "source": [
    "sp.find_all('ytd-rich-item-renderer')[1].text.replace('\\n','')"
   ]
  },
  {
   "cell_type": "code",
   "execution_count": null,
   "id": "f77b9dba-9c60-4b57-8fd7-b93c6c94d541",
   "metadata": {},
   "outputs": [],
   "source": [
    "for i in spp[0].find_all('a'):\n",
    "    print(i)\n",
    "    print('-'*30)"
   ]
  },
  {
   "cell_type": "code",
   "execution_count": null,
   "id": "60462570-703b-4462-b1a8-be10237bbd85",
   "metadata": {},
   "outputs": [],
   "source": [
    "spp[0].find('a',class_='yt-simple-endpoint focus-on-expand style-scope ytd-rich-grid-media')"
   ]
  },
  {
   "cell_type": "code",
   "execution_count": null,
   "id": "8b0ef09f-39ce-468b-bf30-cccc748d5ee9",
   "metadata": {},
   "outputs": [],
   "source": [
    "title=spp[0].find('a',class_='yt-simple-endpoint focus-on-expand style-scope ytd-rich-grid-media').get('title')"
   ]
  },
  {
   "cell_type": "code",
   "execution_count": null,
   "id": "1949b624-62e4-4b38-b62c-6d932b512b98",
   "metadata": {},
   "outputs": [],
   "source": [
    "title"
   ]
  },
  {
   "cell_type": "code",
   "execution_count": null,
   "id": "61942b54-301c-4da7-b433-46bacfedd4d9",
   "metadata": {},
   "outputs": [],
   "source": [
    "link='https://www.youtube.com/'+spp[0].find('a',class_='yt-simple-endpoint focus-on-expand style-scope ytd-rich-grid-media').get('href')"
   ]
  },
  {
   "cell_type": "code",
   "execution_count": null,
   "id": "e38fcc9b-9f7c-4513-a441-5a8fe9da98c2",
   "metadata": {},
   "outputs": [],
   "source": [
    "link"
   ]
  },
  {
   "cell_type": "code",
   "execution_count": null,
   "id": "7d22d9d0-aad8-49a7-b36e-3b376e8f1aea",
   "metadata": {},
   "outputs": [],
   "source": [
    "len(spp[0].find_all('span'))"
   ]
  },
  {
   "cell_type": "code",
   "execution_count": null,
   "id": "7db8ac1e-c50d-4afa-86e7-4d98ecbd7399",
   "metadata": {},
   "outputs": [],
   "source": [
    "for i in spp[0].find_all('span'):\n",
    "    print(i)\n",
    "    print('-'*30)"
   ]
  },
  {
   "cell_type": "code",
   "execution_count": null,
   "id": "982fe126-55c0-4713-9f41-5dce556e5cd4",
   "metadata": {},
   "outputs": [],
   "source": [
    "views=spp[0].find_all('span',class_='inline-metadata-item style-scope ytd-video-meta-block')[0].text"
   ]
  },
  {
   "cell_type": "code",
   "execution_count": null,
   "id": "ba90a7dc-4b8c-476c-8eab-3052553fc76c",
   "metadata": {},
   "outputs": [],
   "source": [
    "date=spp[0].find_all('span',class_='inline-metadata-item style-scope ytd-video-meta-block')[1].text"
   ]
  },
  {
   "cell_type": "code",
   "execution_count": null,
   "id": "8f365d74-fe5b-4054-a957-f9dcb975c112",
   "metadata": {},
   "outputs": [],
   "source": [
    "views"
   ]
  },
  {
   "cell_type": "code",
   "execution_count": null,
   "id": "f724076a-31df-4b4a-832b-b9a7a2d49380",
   "metadata": {},
   "outputs": [],
   "source": [
    "date"
   ]
  },
  {
   "cell_type": "code",
   "execution_count": null,
   "id": "1b20a131-1887-455c-9f0a-e434952134b4",
   "metadata": {},
   "outputs": [],
   "source": [
    "data=[]\n",
    "for spp in tqdm(sp.find_all('ytd-rich-item-renderer')):\n",
    "    title=spp.find('a',class_='yt-simple-endpoint focus-on-expand style-scope ytd-rich-grid-media').get('title')\n",
    "    link='https://www.youtube.com/'+spp.find('a',class_='yt-simple-endpoint focus-on-expand style-scope ytd-rich-grid-media').get('href')\n",
    "    try:\n",
    "        views=spp.find_all('span',class_='inline-metadata-item style-scope ytd-video-meta-block')[0].text\n",
    "    except:\n",
    "        views=np.nan\n",
    "    try:\n",
    "        date=spp.find_all('span',class_='inline-metadata-item style-scope ytd-video-meta-block')[1].text\n",
    "    except:\n",
    "        date=np.nan\n",
    "    try:\n",
    "        img_link=spp.find('img').get('src').split('?')[0]\n",
    "    except:\n",
    "        img_link=np.nan\n",
    "    # print(title)\n",
    "    # print(link)\n",
    "    # print(views)\n",
    "    # print(date)\n",
    "    # print(img_link)\n",
    "    # print('-'*30)\n",
    "    data.append([title,link,views,date,img_link])"
   ]
  },
  {
   "cell_type": "code",
   "execution_count": null,
   "id": "3a17a7a4-db26-4304-a850-eca6817f670c",
   "metadata": {},
   "outputs": [],
   "source": [
    "len(data)"
   ]
  },
  {
   "cell_type": "code",
   "execution_count": null,
   "id": "5bcb9887-0d41-4474-a74b-8bc657aa6075",
   "metadata": {},
   "outputs": [],
   "source": [
    "data"
   ]
  },
  {
   "cell_type": "code",
   "execution_count": null,
   "id": "5e3dd34f-c63e-4ee5-bf01-6f0c9388db16",
   "metadata": {},
   "outputs": [],
   "source": [
    "df=pd.DataFrame(data,columns=['Title','Youtube link','Views','Date','Img link'])"
   ]
  },
  {
   "cell_type": "code",
   "execution_count": null,
   "id": "136b5fb0-e237-4118-9a99-ec4e38f6ef71",
   "metadata": {},
   "outputs": [],
   "source": [
    "df"
   ]
  },
  {
   "cell_type": "code",
   "execution_count": null,
   "id": "59fa9b44-2a80-44cd-8f61-326b645da3b6",
   "metadata": {},
   "outputs": [],
   "source": [
    "df.isnull().sum()"
   ]
  },
  {
   "cell_type": "code",
   "execution_count": null,
   "id": "e30b07cd-d314-47c4-8766-2dde4895932c",
   "metadata": {},
   "outputs": [],
   "source": [
    "df.to_csv('Gfg youtube data.csv',index=False)"
   ]
  },
  {
   "cell_type": "code",
   "execution_count": null,
   "id": "f38bb9cd-310a-4b8b-95c3-69fb0d386aa8",
   "metadata": {},
   "outputs": [],
   "source": [
    "for link in df['Youtube link']:\n",
    "    browser.get(link)\n",
    "    break"
   ]
  },
  {
   "cell_type": "code",
   "execution_count": null,
   "id": "c1c2104d-be62-4a2b-b16f-a510cafe58c2",
   "metadata": {},
   "outputs": [],
   "source": [
    "soup=BeautifulSoup(browser.page_source,'html.parser')"
   ]
  },
  {
   "cell_type": "code",
   "execution_count": null,
   "id": "88786c56-d4aa-4384-a884-ca22e30b62cf",
   "metadata": {},
   "outputs": [],
   "source": [
    "soup"
   ]
  },
  {
   "cell_type": "code",
   "execution_count": null,
   "id": "5980b70b-9d6d-4d68-93a6-8e12ca3ba314",
   "metadata": {},
   "outputs": [],
   "source": [
    "soup.find_all('yt-formatted-string',class_='style-scope ytd-watch-metadata')"
   ]
  },
  {
   "cell_type": "code",
   "execution_count": null,
   "id": "57d90918-87e0-4e24-8d13-d4f8b1128f8d",
   "metadata": {},
   "outputs": [],
   "source": [
    "for i in soup.find_all('yt-formatted-string',class_='style-scope ytd-watch-metadata'):\n",
    "    print(i)\n",
    "    print('-'*30)"
   ]
  },
  {
   "cell_type": "code",
   "execution_count": null,
   "id": "71a067d6-dc5e-4fcb-92fc-f5946eea589b",
   "metadata": {},
   "outputs": [],
   "source": [
    "title=soup.find_all('yt-formatted-string',class_='style-scope ytd-watch-metadata')[0].text"
   ]
  },
  {
   "cell_type": "code",
   "execution_count": null,
   "id": "915a41e1-d9b8-4b95-af25-510da57e970c",
   "metadata": {},
   "outputs": [],
   "source": [
    "title"
   ]
  },
  {
   "cell_type": "code",
   "execution_count": null,
   "id": "3a527dc0-2dcc-4798-8170-9b98f88ec96a",
   "metadata": {},
   "outputs": [],
   "source": [
    "soup.find_all('span',class_='bold style-scope yt-formatted-string')"
   ]
  },
  {
   "cell_type": "code",
   "execution_count": null,
   "id": "3b591fcc-eaed-4cde-ba2f-a68af3d5f884",
   "metadata": {},
   "outputs": [],
   "source": [
    "views=soup.find_all('span',class_='bold style-scope yt-formatted-string')[0].text"
   ]
  },
  {
   "cell_type": "code",
   "execution_count": null,
   "id": "f8b19910-797b-4f6f-9946-1d28927105e2",
   "metadata": {},
   "outputs": [],
   "source": [
    "views"
   ]
  },
  {
   "cell_type": "code",
   "execution_count": null,
   "id": "d27d206d-c0d5-4966-a578-5c50ee4066a3",
   "metadata": {},
   "outputs": [],
   "source": [
    "date=soup.find_all('span',class_='bold style-scope yt-formatted-string')[2].text"
   ]
  },
  {
   "cell_type": "code",
   "execution_count": null,
   "id": "8779a756-f3c1-4de8-94d0-9048a986321e",
   "metadata": {},
   "outputs": [],
   "source": [
    "date"
   ]
  },
  {
   "cell_type": "code",
   "execution_count": null,
   "id": "883f89ea-bfa8-4c0f-ba37-aeab670b1aa7",
   "metadata": {},
   "outputs": [],
   "source": [
    "soup.find_all('div',class_='yt-spec-button-shape-next__button-text-content')"
   ]
  },
  {
   "cell_type": "code",
   "execution_count": null,
   "id": "85e08f2a-b780-4b47-8909-9f3adf05e010",
   "metadata": {},
   "outputs": [],
   "source": [
    "likes=soup.find_all('div',class_='yt-spec-button-shape-next__button-text-content')[14].text"
   ]
  },
  {
   "cell_type": "code",
   "execution_count": null,
   "id": "c1fca6a7-5113-4e4d-a4e7-096d8f92b0b8",
   "metadata": {},
   "outputs": [],
   "source": [
    "likes"
   ]
  },
  {
   "cell_type": "code",
   "execution_count": null,
   "id": "29420815-db53-4f15-8019-9391251dbaf9",
   "metadata": {},
   "outputs": [],
   "source": [
    "browser=webdriver.Chrome()\n",
    "browser.get('https://www.youtube.com/')\n",
    "time.sleep(2)\n",
    "ytdata=[]\n",
    "for link in tqdm(df['Youtube link']):\n",
    "    browser.get(link)\n",
    "    time.sleep(1)\n",
    "    soup=BeautifulSoup(browser.page_source,'html.parser')\n",
    "    try:\n",
    "        title=soup.find_all('yt-formatted-string',class_='style-scope ytd-watch-metadata')[0].text\n",
    "    except:\n",
    "        title=np.nan\n",
    "    try:\n",
    "        views=soup.find_all('span',class_='bold style-scope yt-formatted-string')[0].text\n",
    "    except:\n",
    "        views=np.nan\n",
    "    try:\n",
    "         date=soup.find_all('span',class_='bold style-scope yt-formatted-string')[2].text\n",
    "    except:\n",
    "        date=np.nan\n",
    "    try:\n",
    "        likes=soup.find_all('div',class_='yt-spec-button-shape-next__button-text-content')[14].text\n",
    "    except:\n",
    "        likes=np.nan\n",
    "    try:\n",
    "         description=''\n",
    "         for ds in soup.find_all('span',class_='yt-core-attributed-string--link-inherit-color'):   \n",
    "            description=description+ds.text\n",
    "            description=description+\"\\n\"\n",
    "    except:\n",
    "        description=np.nan\n",
    "\n",
    "    ytdata.append([title,date,views,likes,link,description])\n",
    "    # print(title,'|',likes,'|',views,'|',date,\"------\"+\"\\n\"+description)\n",
    "    "
   ]
  },
  {
   "cell_type": "code",
   "execution_count": null,
   "id": "b850c86b-f813-4126-9c27-507b6c1adae8",
   "metadata": {},
   "outputs": [],
   "source": [
    "ytdata"
   ]
  },
  {
   "cell_type": "code",
   "execution_count": null,
   "id": "719c4015-dc5a-43f0-a57a-f5442356652a",
   "metadata": {},
   "outputs": [],
   "source": [
    "print(ytdata[0][5])"
   ]
  },
  {
   "cell_type": "code",
   "execution_count": 148,
   "id": "ce5ec8db-aca4-4695-809d-0e2079b1644f",
   "metadata": {},
   "outputs": [
    {
     "data": {
      "text/plain": [
       "1993"
      ]
     },
     "execution_count": 148,
     "metadata": {},
     "output_type": "execute_result"
    }
   ],
   "source": [
    "len(ytdata)"
   ]
  },
  {
   "cell_type": "code",
   "execution_count": null,
   "id": "c59e3d9e-2873-47de-929c-52795e3bb81a",
   "metadata": {},
   "outputs": [],
   "source": [
    "df=pd.DataFrame(ytdata,columns=['Title','Date','Views','Likes','Youtube Link','Description'])"
   ]
  },
  {
   "cell_type": "code",
   "execution_count": null,
   "id": "e17aad24-1c7e-49fe-a54a-255f0be72b25",
   "metadata": {},
   "outputs": [],
   "source": [
    "df"
   ]
  },
  {
   "cell_type": "code",
   "execution_count": 152,
   "id": "5928a756-4b50-4ce7-84fb-f0f0e60b92a0",
   "metadata": {},
   "outputs": [
    {
     "data": {
      "text/html": [
       "<div>\n",
       "<style scoped>\n",
       "    .dataframe tbody tr th:only-of-type {\n",
       "        vertical-align: middle;\n",
       "    }\n",
       "\n",
       "    .dataframe tbody tr th {\n",
       "        vertical-align: top;\n",
       "    }\n",
       "\n",
       "    .dataframe thead th {\n",
       "        text-align: right;\n",
       "    }\n",
       "</style>\n",
       "<table border=\"1\" class=\"dataframe\">\n",
       "  <thead>\n",
       "    <tr style=\"text-align: right;\">\n",
       "      <th></th>\n",
       "      <th>Title</th>\n",
       "      <th>Date</th>\n",
       "      <th>Views</th>\n",
       "      <th>Youtube Link</th>\n",
       "      <th>Description</th>\n",
       "    </tr>\n",
       "  </thead>\n",
       "  <tbody>\n",
       "    <tr>\n",
       "      <th>0</th>\n",
       "      <td>How To Crack Campus Placements/Internships? To...</td>\n",
       "      <td>3 hours ago</td>\n",
       "      <td>241 views</td>\n",
       "      <td>https://www.youtube.com//watch?v=3K8xY-257G8</td>\n",
       "      <td>Cracking campus placements and internships doe...</td>\n",
       "    </tr>\n",
       "    <tr>\n",
       "      <th>1</th>\n",
       "      <td>I went to the House of a Zomato Software Engin...</td>\n",
       "      <td>9 days ago</td>\n",
       "      <td>24K views</td>\n",
       "      <td>https://www.youtube.com//watch?v=1WCuuJYvPFc</td>\n",
       "      <td>Life of a Zomato Software Engineer 👨‍💻 | Paytm...</td>\n",
       "    </tr>\n",
       "    <tr>\n",
       "      <th>2</th>\n",
       "      <td>Three 90 Challenge: Ending on 31st March!</td>\n",
       "      <td>11 days ago</td>\n",
       "      <td>11K views</td>\n",
       "      <td>https://www.youtube.com//watch?v=j_qF5z5jazY</td>\n",
       "      <td>Avail the 90% Refund + 30% Discount now: \\nhtt...</td>\n",
       "    </tr>\n",
       "    <tr>\n",
       "      <th>3</th>\n",
       "      <td>GSoC 2025 | Everything You Need to Know</td>\n",
       "      <td>2 weeks ago</td>\n",
       "      <td>36K views</td>\n",
       "      <td>https://www.youtube.com//watch?v=4U8t0WUQGps</td>\n",
       "      <td>GSoC 2025 | Everything You Need to Know 🚀\\n\\nW...</td>\n",
       "    </tr>\n",
       "    <tr>\n",
       "      <th>4</th>\n",
       "      <td>Why can't Gen Z get a job?</td>\n",
       "      <td>3 weeks ago</td>\n",
       "      <td>1.8K views</td>\n",
       "      <td>https://www.youtube.com//watch?v=JZo33ruBBDA</td>\n",
       "      <td>Starting your first job can feel like stepping...</td>\n",
       "    </tr>\n",
       "  </tbody>\n",
       "</table>\n",
       "</div>"
      ],
      "text/plain": [
       "                                               Title         Date       Views  \\\n",
       "0  How To Crack Campus Placements/Internships? To...  3 hours ago   241 views   \n",
       "1  I went to the House of a Zomato Software Engin...   9 days ago   24K views   \n",
       "2          Three 90 Challenge: Ending on 31st March!  11 days ago   11K views   \n",
       "3            GSoC 2025 | Everything You Need to Know  2 weeks ago   36K views   \n",
       "4                         Why can't Gen Z get a job?  3 weeks ago  1.8K views   \n",
       "\n",
       "                                   Youtube Link  \\\n",
       "0  https://www.youtube.com//watch?v=3K8xY-257G8   \n",
       "1  https://www.youtube.com//watch?v=1WCuuJYvPFc   \n",
       "2  https://www.youtube.com//watch?v=j_qF5z5jazY   \n",
       "3  https://www.youtube.com//watch?v=4U8t0WUQGps   \n",
       "4  https://www.youtube.com//watch?v=JZo33ruBBDA   \n",
       "\n",
       "                                         Description  \n",
       "0  Cracking campus placements and internships doe...  \n",
       "1  Life of a Zomato Software Engineer 👨‍💻 | Paytm...  \n",
       "2  Avail the 90% Refund + 30% Discount now: \\nhtt...  \n",
       "3  GSoC 2025 | Everything You Need to Know 🚀\\n\\nW...  \n",
       "4  Starting your first job can feel like stepping...  "
      ]
     },
     "execution_count": 152,
     "metadata": {},
     "output_type": "execute_result"
    }
   ],
   "source": [
    "df.head()"
   ]
  },
  {
   "cell_type": "code",
   "execution_count": null,
   "id": "666b501f-c822-4d81-abaf-f4b5b5ac0b8e",
   "metadata": {},
   "outputs": [],
   "source": [
    "df.isnull().sum()"
   ]
  },
  {
   "cell_type": "code",
   "execution_count": null,
   "id": "3a33c723-f217-43f0-86c0-c4cac359f41d",
   "metadata": {},
   "outputs": [],
   "source": [
    "df.to_csv('Gfg yt channel data with description.csv',index=False)"
   ]
  },
  {
   "cell_type": "code",
   "execution_count": null,
   "id": "797d2fa5-a5e3-4f23-91c3-55add4b500a1",
   "metadata": {},
   "outputs": [],
   "source": []
  },
  {
   "cell_type": "code",
   "execution_count": null,
   "id": "fbc5b48d-a3aa-4a61-9fd5-ff5b3f4e8ec8",
   "metadata": {},
   "outputs": [],
   "source": []
  }
 ],
 "metadata": {
  "kernelspec": {
   "display_name": "Python 3 (ipykernel)",
   "language": "python",
   "name": "python3"
  },
  "language_info": {
   "codemirror_mode": {
    "name": "ipython",
    "version": 3
   },
   "file_extension": ".py",
   "mimetype": "text/x-python",
   "name": "python",
   "nbconvert_exporter": "python",
   "pygments_lexer": "ipython3",
   "version": "3.12.4"
  }
 },
 "nbformat": 4,
 "nbformat_minor": 5
}
